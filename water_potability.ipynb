{
  "cells": [
    {
      "cell_type": "markdown",
      "metadata": {
        "id": "iQcRX12VnJA0"
      },
      "source": [
        "Importing libraries and Exploring the Dataset."
      ]
    },
    {
      "cell_type": "code",
      "execution_count": 1,
      "metadata": {
        "id": "OudDlQbYnJA0"
      },
      "outputs": [],
      "source": [
        "import numpy as np\n",
        "import pandas as pd\n",
        "import matplotlib.pyplot as plt\n",
        "import seaborn as sns\n",
        "from sklearn.preprocessing import MinMaxScaler\n",
        "from sklearn.model_selection import train_test_split\n",
        "from sklearn.linear_model import LogisticRegression\n",
        "from sklearn import svm\n",
        "from sklearn.metrics import make_scorer, accuracy_score\n",
        "from sklearn import metrics\n",
        "from sklearn.ensemble import  RandomForestClassifier\n",
        "from sklearn.tree import DecisionTreeClassifier\n",
        "import warnings\n",
        "from sklearn.svm import SVC\n",
        "from sklearn.model_selection import GridSearchCV\n",
        "from sklearn.metrics import classification_report\n",
        "\n",
        "warnings.filterwarnings('ignore') "
      ]
    },
    {
      "cell_type": "markdown",
      "metadata": {
        "id": "kY0iwXDenJA2"
      },
      "source": [
        "Definining Exploratory Data Analysis with an overview of the whole project "
      ]
    },
    {
      "cell_type": "code",
      "source": [
        "data=pd.read_csv('water_potability.csv')"
      ],
      "metadata": {
        "id": "tOOLEotU1vE6"
      },
      "execution_count": 2,
      "outputs": []
    },
    {
      "cell_type": "code",
      "execution_count": 3,
      "metadata": {
        "id": "9t8pFcJ_nJA3",
        "colab": {
          "base_uri": "https://localhost:8080/"
        },
        "outputId": "d03eb1cf-7af5-407f-f2d0-e6c0156947ba"
      },
      "outputs": [
        {
          "output_type": "execute_result",
          "data": {
            "text/plain": [
              "(3276, 10)"
            ]
          },
          "metadata": {},
          "execution_count": 3
        }
      ],
      "source": [
        "data.shape"
      ]
    },
    {
      "cell_type": "code",
      "execution_count": 4,
      "metadata": {
        "id": "Mo86fj8fnJA3",
        "colab": {
          "base_uri": "https://localhost:8080/"
        },
        "outputId": "620a3787-d533-4cb0-935c-17860d550267"
      },
      "outputs": [
        {
          "output_type": "execute_result",
          "data": {
            "text/plain": [
              "ph                 491\n",
              "Hardness             0\n",
              "Solids               0\n",
              "Chloramines          0\n",
              "Sulfate            781\n",
              "Conductivity         0\n",
              "Organic_carbon       0\n",
              "Trihalomethanes    162\n",
              "Turbidity            0\n",
              "Potability           0\n",
              "dtype: int64"
            ]
          },
          "metadata": {},
          "execution_count": 4
        }
      ],
      "source": [
        "#check columns with nulls\n",
        "data.isna().sum()"
      ]
    },
    {
      "cell_type": "code",
      "execution_count": 5,
      "metadata": {
        "id": "gqfef4RCnJA4",
        "colab": {
          "base_uri": "https://localhost:8080/"
        },
        "outputId": "d01a6075-1f4a-4b90-a7f6-e31c2f917be1"
      },
      "outputs": [
        {
          "output_type": "execute_result",
          "data": {
            "text/plain": [
              "ph                 14.987790\n",
              "Hardness            0.000000\n",
              "Solids              0.000000\n",
              "Chloramines         0.000000\n",
              "Sulfate            23.840049\n",
              "Conductivity        0.000000\n",
              "Organic_carbon      0.000000\n",
              "Trihalomethanes     4.945055\n",
              "Turbidity           0.000000\n",
              "Potability          0.000000\n",
              "dtype: float64"
            ]
          },
          "metadata": {},
          "execution_count": 5
        }
      ],
      "source": [
        "#percentage of nulls in each column\n",
        "data.isnull().sum()*100/data.shape[0] "
      ]
    },
    {
      "cell_type": "code",
      "source": [
        "#filling nulls with median\n",
        "data['ph']=data['ph'].fillna(data['ph'].median())\n",
        "data['Sulfate']=data['Sulfate'].fillna(data['Sulfate'].median())\n",
        "data['Trihalomethanes']=data['Trihalomethanes'].fillna(data['Trihalomethanes'].median())\n",
        "data.isna().sum()\n",
        "#data.shape"
      ],
      "metadata": {
        "id": "b-p9mmbs1KUp",
        "colab": {
          "base_uri": "https://localhost:8080/"
        },
        "outputId": "870d2056-6ad8-49f7-910e-20b6a454d59d"
      },
      "execution_count": 6,
      "outputs": [
        {
          "output_type": "execute_result",
          "data": {
            "text/plain": [
              "ph                 0\n",
              "Hardness           0\n",
              "Solids             0\n",
              "Chloramines        0\n",
              "Sulfate            0\n",
              "Conductivity       0\n",
              "Organic_carbon     0\n",
              "Trihalomethanes    0\n",
              "Turbidity          0\n",
              "Potability         0\n",
              "dtype: int64"
            ]
          },
          "metadata": {},
          "execution_count": 6
        }
      ]
    },
    {
      "cell_type": "code",
      "source": [
        "#printing information about data\n",
        "data.info"
      ],
      "metadata": {
        "id": "7SeiCXv21oIo",
        "colab": {
          "base_uri": "https://localhost:8080/"
        },
        "outputId": "8f0ae484-fad5-4bfc-f30a-4c9ca7f850a7"
      },
      "execution_count": 7,
      "outputs": [
        {
          "output_type": "execute_result",
          "data": {
            "text/plain": [
              "<bound method DataFrame.info of             ph    Hardness        Solids  Chloramines     Sulfate  \\\n",
              "0     7.036752  204.890455  20791.318981     7.300212  368.516441   \n",
              "1     3.716080  129.422921  18630.057858     6.635246  333.073546   \n",
              "2     8.099124  224.236259  19909.541732     9.275884  333.073546   \n",
              "3     8.316766  214.373394  22018.417441     8.059332  356.886136   \n",
              "4     9.092223  181.101509  17978.986339     6.546600  310.135738   \n",
              "...        ...         ...           ...          ...         ...   \n",
              "3271  4.668102  193.681735  47580.991603     7.166639  359.948574   \n",
              "3272  7.808856  193.553212  17329.802160     8.061362  333.073546   \n",
              "3273  9.419510  175.762646  33155.578218     7.350233  333.073546   \n",
              "3274  5.126763  230.603758  11983.869376     6.303357  333.073546   \n",
              "3275  7.874671  195.102299  17404.177061     7.509306  333.073546   \n",
              "\n",
              "      Conductivity  Organic_carbon  Trihalomethanes  Turbidity  Potability  \n",
              "0       564.308654       10.379783        86.990970   2.963135           0  \n",
              "1       592.885359       15.180013        56.329076   4.500656           0  \n",
              "2       418.606213       16.868637        66.420093   3.055934           0  \n",
              "3       363.266516       18.436524       100.341674   4.628771           0  \n",
              "4       398.410813       11.558279        31.997993   4.075075           0  \n",
              "...            ...             ...              ...        ...         ...  \n",
              "3271    526.424171       13.894419        66.687695   4.435821           1  \n",
              "3272    392.449580       19.903225        66.622485   2.798243           1  \n",
              "3273    432.044783       11.039070        69.845400   3.298875           1  \n",
              "3274    402.883113       11.168946        77.488213   4.708658           1  \n",
              "3275    327.459760       16.140368        78.698446   2.309149           1  \n",
              "\n",
              "[3276 rows x 10 columns]>"
            ]
          },
          "metadata": {},
          "execution_count": 7
        }
      ]
    },
    {
      "cell_type": "code",
      "source": [
        "data.head(10)"
      ],
      "metadata": {
        "id": "wnTdHq7Q145u",
        "colab": {
          "base_uri": "https://localhost:8080/",
          "height": 427
        },
        "outputId": "c6c03da2-c870-437b-f1a9-f2cb7cb376db"
      },
      "execution_count": 8,
      "outputs": [
        {
          "output_type": "execute_result",
          "data": {
            "text/plain": [
              "          ph    Hardness        Solids  Chloramines     Sulfate  Conductivity  \\\n",
              "0   7.036752  204.890455  20791.318981     7.300212  368.516441    564.308654   \n",
              "1   3.716080  129.422921  18630.057858     6.635246  333.073546    592.885359   \n",
              "2   8.099124  224.236259  19909.541732     9.275884  333.073546    418.606213   \n",
              "3   8.316766  214.373394  22018.417441     8.059332  356.886136    363.266516   \n",
              "4   9.092223  181.101509  17978.986339     6.546600  310.135738    398.410813   \n",
              "5   5.584087  188.313324  28748.687739     7.544869  326.678363    280.467916   \n",
              "6  10.223862  248.071735  28749.716544     7.513408  393.663396    283.651634   \n",
              "7   8.635849  203.361523  13672.091764     4.563009  303.309771    474.607645   \n",
              "8   7.036752  118.988579  14285.583854     7.804174  268.646941    389.375566   \n",
              "9  11.180284  227.231469  25484.508491     9.077200  404.041635    563.885481   \n",
              "\n",
              "   Organic_carbon  Trihalomethanes  Turbidity  Potability  \n",
              "0       10.379783        86.990970   2.963135           0  \n",
              "1       15.180013        56.329076   4.500656           0  \n",
              "2       16.868637        66.420093   3.055934           0  \n",
              "3       18.436524       100.341674   4.628771           0  \n",
              "4       11.558279        31.997993   4.075075           0  \n",
              "5        8.399735        54.917862   2.559708           0  \n",
              "6       13.789695        84.603556   2.672989           0  \n",
              "7       12.363817        62.798309   4.401425           0  \n",
              "8       12.706049        53.928846   3.595017           0  \n",
              "9       17.927806        71.976601   4.370562           0  "
            ],
            "text/html": [
              "\n",
              "  <div id=\"df-f3a64db0-d4a3-44f8-9e78-3fd9e5f1ffb8\">\n",
              "    <div class=\"colab-df-container\">\n",
              "      <div>\n",
              "<style scoped>\n",
              "    .dataframe tbody tr th:only-of-type {\n",
              "        vertical-align: middle;\n",
              "    }\n",
              "\n",
              "    .dataframe tbody tr th {\n",
              "        vertical-align: top;\n",
              "    }\n",
              "\n",
              "    .dataframe thead th {\n",
              "        text-align: right;\n",
              "    }\n",
              "</style>\n",
              "<table border=\"1\" class=\"dataframe\">\n",
              "  <thead>\n",
              "    <tr style=\"text-align: right;\">\n",
              "      <th></th>\n",
              "      <th>ph</th>\n",
              "      <th>Hardness</th>\n",
              "      <th>Solids</th>\n",
              "      <th>Chloramines</th>\n",
              "      <th>Sulfate</th>\n",
              "      <th>Conductivity</th>\n",
              "      <th>Organic_carbon</th>\n",
              "      <th>Trihalomethanes</th>\n",
              "      <th>Turbidity</th>\n",
              "      <th>Potability</th>\n",
              "    </tr>\n",
              "  </thead>\n",
              "  <tbody>\n",
              "    <tr>\n",
              "      <th>0</th>\n",
              "      <td>7.036752</td>\n",
              "      <td>204.890455</td>\n",
              "      <td>20791.318981</td>\n",
              "      <td>7.300212</td>\n",
              "      <td>368.516441</td>\n",
              "      <td>564.308654</td>\n",
              "      <td>10.379783</td>\n",
              "      <td>86.990970</td>\n",
              "      <td>2.963135</td>\n",
              "      <td>0</td>\n",
              "    </tr>\n",
              "    <tr>\n",
              "      <th>1</th>\n",
              "      <td>3.716080</td>\n",
              "      <td>129.422921</td>\n",
              "      <td>18630.057858</td>\n",
              "      <td>6.635246</td>\n",
              "      <td>333.073546</td>\n",
              "      <td>592.885359</td>\n",
              "      <td>15.180013</td>\n",
              "      <td>56.329076</td>\n",
              "      <td>4.500656</td>\n",
              "      <td>0</td>\n",
              "    </tr>\n",
              "    <tr>\n",
              "      <th>2</th>\n",
              "      <td>8.099124</td>\n",
              "      <td>224.236259</td>\n",
              "      <td>19909.541732</td>\n",
              "      <td>9.275884</td>\n",
              "      <td>333.073546</td>\n",
              "      <td>418.606213</td>\n",
              "      <td>16.868637</td>\n",
              "      <td>66.420093</td>\n",
              "      <td>3.055934</td>\n",
              "      <td>0</td>\n",
              "    </tr>\n",
              "    <tr>\n",
              "      <th>3</th>\n",
              "      <td>8.316766</td>\n",
              "      <td>214.373394</td>\n",
              "      <td>22018.417441</td>\n",
              "      <td>8.059332</td>\n",
              "      <td>356.886136</td>\n",
              "      <td>363.266516</td>\n",
              "      <td>18.436524</td>\n",
              "      <td>100.341674</td>\n",
              "      <td>4.628771</td>\n",
              "      <td>0</td>\n",
              "    </tr>\n",
              "    <tr>\n",
              "      <th>4</th>\n",
              "      <td>9.092223</td>\n",
              "      <td>181.101509</td>\n",
              "      <td>17978.986339</td>\n",
              "      <td>6.546600</td>\n",
              "      <td>310.135738</td>\n",
              "      <td>398.410813</td>\n",
              "      <td>11.558279</td>\n",
              "      <td>31.997993</td>\n",
              "      <td>4.075075</td>\n",
              "      <td>0</td>\n",
              "    </tr>\n",
              "    <tr>\n",
              "      <th>5</th>\n",
              "      <td>5.584087</td>\n",
              "      <td>188.313324</td>\n",
              "      <td>28748.687739</td>\n",
              "      <td>7.544869</td>\n",
              "      <td>326.678363</td>\n",
              "      <td>280.467916</td>\n",
              "      <td>8.399735</td>\n",
              "      <td>54.917862</td>\n",
              "      <td>2.559708</td>\n",
              "      <td>0</td>\n",
              "    </tr>\n",
              "    <tr>\n",
              "      <th>6</th>\n",
              "      <td>10.223862</td>\n",
              "      <td>248.071735</td>\n",
              "      <td>28749.716544</td>\n",
              "      <td>7.513408</td>\n",
              "      <td>393.663396</td>\n",
              "      <td>283.651634</td>\n",
              "      <td>13.789695</td>\n",
              "      <td>84.603556</td>\n",
              "      <td>2.672989</td>\n",
              "      <td>0</td>\n",
              "    </tr>\n",
              "    <tr>\n",
              "      <th>7</th>\n",
              "      <td>8.635849</td>\n",
              "      <td>203.361523</td>\n",
              "      <td>13672.091764</td>\n",
              "      <td>4.563009</td>\n",
              "      <td>303.309771</td>\n",
              "      <td>474.607645</td>\n",
              "      <td>12.363817</td>\n",
              "      <td>62.798309</td>\n",
              "      <td>4.401425</td>\n",
              "      <td>0</td>\n",
              "    </tr>\n",
              "    <tr>\n",
              "      <th>8</th>\n",
              "      <td>7.036752</td>\n",
              "      <td>118.988579</td>\n",
              "      <td>14285.583854</td>\n",
              "      <td>7.804174</td>\n",
              "      <td>268.646941</td>\n",
              "      <td>389.375566</td>\n",
              "      <td>12.706049</td>\n",
              "      <td>53.928846</td>\n",
              "      <td>3.595017</td>\n",
              "      <td>0</td>\n",
              "    </tr>\n",
              "    <tr>\n",
              "      <th>9</th>\n",
              "      <td>11.180284</td>\n",
              "      <td>227.231469</td>\n",
              "      <td>25484.508491</td>\n",
              "      <td>9.077200</td>\n",
              "      <td>404.041635</td>\n",
              "      <td>563.885481</td>\n",
              "      <td>17.927806</td>\n",
              "      <td>71.976601</td>\n",
              "      <td>4.370562</td>\n",
              "      <td>0</td>\n",
              "    </tr>\n",
              "  </tbody>\n",
              "</table>\n",
              "</div>\n",
              "      <button class=\"colab-df-convert\" onclick=\"convertToInteractive('df-f3a64db0-d4a3-44f8-9e78-3fd9e5f1ffb8')\"\n",
              "              title=\"Convert this dataframe to an interactive table.\"\n",
              "              style=\"display:none;\">\n",
              "        \n",
              "  <svg xmlns=\"http://www.w3.org/2000/svg\" height=\"24px\"viewBox=\"0 0 24 24\"\n",
              "       width=\"24px\">\n",
              "    <path d=\"M0 0h24v24H0V0z\" fill=\"none\"/>\n",
              "    <path d=\"M18.56 5.44l.94 2.06.94-2.06 2.06-.94-2.06-.94-.94-2.06-.94 2.06-2.06.94zm-11 1L8.5 8.5l.94-2.06 2.06-.94-2.06-.94L8.5 2.5l-.94 2.06-2.06.94zm10 10l.94 2.06.94-2.06 2.06-.94-2.06-.94-.94-2.06-.94 2.06-2.06.94z\"/><path d=\"M17.41 7.96l-1.37-1.37c-.4-.4-.92-.59-1.43-.59-.52 0-1.04.2-1.43.59L10.3 9.45l-7.72 7.72c-.78.78-.78 2.05 0 2.83L4 21.41c.39.39.9.59 1.41.59.51 0 1.02-.2 1.41-.59l7.78-7.78 2.81-2.81c.8-.78.8-2.07 0-2.86zM5.41 20L4 18.59l7.72-7.72 1.47 1.35L5.41 20z\"/>\n",
              "  </svg>\n",
              "      </button>\n",
              "      \n",
              "  <style>\n",
              "    .colab-df-container {\n",
              "      display:flex;\n",
              "      flex-wrap:wrap;\n",
              "      gap: 12px;\n",
              "    }\n",
              "\n",
              "    .colab-df-convert {\n",
              "      background-color: #E8F0FE;\n",
              "      border: none;\n",
              "      border-radius: 50%;\n",
              "      cursor: pointer;\n",
              "      display: none;\n",
              "      fill: #1967D2;\n",
              "      height: 32px;\n",
              "      padding: 0 0 0 0;\n",
              "      width: 32px;\n",
              "    }\n",
              "\n",
              "    .colab-df-convert:hover {\n",
              "      background-color: #E2EBFA;\n",
              "      box-shadow: 0px 1px 2px rgba(60, 64, 67, 0.3), 0px 1px 3px 1px rgba(60, 64, 67, 0.15);\n",
              "      fill: #174EA6;\n",
              "    }\n",
              "\n",
              "    [theme=dark] .colab-df-convert {\n",
              "      background-color: #3B4455;\n",
              "      fill: #D2E3FC;\n",
              "    }\n",
              "\n",
              "    [theme=dark] .colab-df-convert:hover {\n",
              "      background-color: #434B5C;\n",
              "      box-shadow: 0px 1px 3px 1px rgba(0, 0, 0, 0.15);\n",
              "      filter: drop-shadow(0px 1px 2px rgba(0, 0, 0, 0.3));\n",
              "      fill: #FFFFFF;\n",
              "    }\n",
              "  </style>\n",
              "\n",
              "      <script>\n",
              "        const buttonEl =\n",
              "          document.querySelector('#df-f3a64db0-d4a3-44f8-9e78-3fd9e5f1ffb8 button.colab-df-convert');\n",
              "        buttonEl.style.display =\n",
              "          google.colab.kernel.accessAllowed ? 'block' : 'none';\n",
              "\n",
              "        async function convertToInteractive(key) {\n",
              "          const element = document.querySelector('#df-f3a64db0-d4a3-44f8-9e78-3fd9e5f1ffb8');\n",
              "          const dataTable =\n",
              "            await google.colab.kernel.invokeFunction('convertToInteractive',\n",
              "                                                     [key], {});\n",
              "          if (!dataTable) return;\n",
              "\n",
              "          const docLinkHtml = 'Like what you see? Visit the ' +\n",
              "            '<a target=\"_blank\" href=https://colab.research.google.com/notebooks/data_table.ipynb>data table notebook</a>'\n",
              "            + ' to learn more about interactive tables.';\n",
              "          element.innerHTML = '';\n",
              "          dataTable['output_type'] = 'display_data';\n",
              "          await google.colab.output.renderOutput(dataTable, element);\n",
              "          const docLink = document.createElement('div');\n",
              "          docLink.innerHTML = docLinkHtml;\n",
              "          element.appendChild(docLink);\n",
              "        }\n",
              "      </script>\n",
              "    </div>\n",
              "  </div>\n",
              "  "
            ]
          },
          "metadata": {},
          "execution_count": 8
        }
      ]
    },
    {
      "cell_type": "code",
      "source": [
        "#pie chart to represent potability of water (non potable for 0 and potable for 1)\n",
        "def pie_chart(dataframe):\n",
        "    \n",
        "    labels = dataframe.index.values\n",
        "    sizes = dataframe['Potability'].values\n",
        "    labels = ['Non-Potable ', 'Potable ']\n",
        "\n",
        "        \n",
        "    fig1, ax1 = plt.subplots()\n",
        "    ax1.pie(sizes, labels=labels, autopct='%1.1f%%', shadow=True, startangle=90)\n",
        "    ax1.axis('equal')  # Equal aspect ratio ensures that pie is drawn as a circle.\n",
        "    plt.show()\n",
        "\n",
        "df_city_count = pd.DataFrame(data.Potability.value_counts())\n",
        "pie_chart(df_city_count)"
      ],
      "metadata": {
        "id": "a0j_JsyG8kSB",
        "colab": {
          "base_uri": "https://localhost:8080/",
          "height": 248
        },
        "outputId": "67af26f1-7149-4bf0-a497-5c4da567dcf7"
      },
      "execution_count": 9,
      "outputs": [
        {
          "output_type": "display_data",
          "data": {
            "text/plain": [
              "<Figure size 432x288 with 1 Axes>"
            ],
            "image/png": "[encoded data removed]"
          },
          "metadata": {}
        }
      ]
    },
    {
      "cell_type": "code",
      "source": [
        "#representing correlation between features\n",
        "plt.figure(figsize=(12,12))\n",
        "hm = sns.heatmap(data.corr(), annot = True,cmap=\"YlGnBu\")\n",
        "\n",
        "hm.set(title = \"Correlation matrix of water potability data\\n\")\n",
        "\n",
        "plt.show()"
      ],
      "metadata": {
        "id": "xzsCi1yhEC9q",
        "colab": {
          "base_uri": "https://localhost:8080/",
          "height": 804
        },
        "outputId": "c032ad9c-4f39-4a36-bf1a-34fcd1eadd29"
      },
      "execution_count": 10,
      "outputs": [
        {
          "output_type": "display_data",
          "data": {
            "text/plain": [
              "<Figure size 864x864 with 2 Axes>"
            ],
            "image/png": "[encoded data removed]"
          },
          "metadata": {
            "needs_background": "light"
          }
        }
      ]
    },
    {
      "cell_type": "code",
      "source": [
        "#correlation between features \n",
        "corr = data.corr()\n",
        "corr.style.background_gradient(cmap='coolwarm')\n",
        "\n",
        "#conclusion: from the graph , the feature with the highest coreleation with potability is Solids with correlation 0.033743\n",
        "#and the lowest is organic_carbon with correlation -0.030001"
      ],
      "metadata": {
        "id": "kKTXEuO8FfU8",
        "colab": {
          "base_uri": "https://localhost:8080/",
          "height": 383
        },
        "outputId": "c123e208-4fe1-4a73-9530-c8a355709e25"
      },
      "execution_count": 11,
      "outputs": [
        {
          "output_type": "execute_result",
          "data": {
            "text/plain": [
              "<pandas.io.formats.style.Styler at 0x7f18b9e64990>"
            ],
            "text/html": [
              "<style type=\"text/css\">\n",
              "#T_f860c_row0_col0, #T_f860c_row1_col1, #T_f860c_row2_col2, #T_f860c_row3_col3, #T_f860c_row4_col4, #T_f860c_row5_col5, #T_f860c_row6_col6, #T_f860c_row7_col7, #T_f860c_row8_col8, #T_f860c_row9_col9 {\n",
              "  background-color: #b40426;\n",
              "  color: #f1f1f1;\n",
              "}\n",
              "#T_f860c_row0_col1, #T_f860c_row6_col4 {\n",
              "  background-color: #6b8df0;\n",
              "  color: #f1f1f1;\n",
              "}\n",
              "#T_f860c_row0_col2, #T_f860c_row2_col9 {\n",
              "  background-color: #4c66d6;\n",
              "  color: #f1f1f1;\n",
              "}\n",
              "#T_f860c_row0_col3, #T_f860c_row1_col3, #T_f860c_row2_col5, #T_f860c_row3_col8, #T_f860c_row7_col9, #T_f860c_row9_col8 {\n",
              "  background-color: #455cce;\n",
              "  color: #f1f1f1;\n",
              "}\n",
              "#T_f860c_row0_col4, #T_f860c_row5_col2 {\n",
              "  background-color: #6788ee;\n",
              "  color: #f1f1f1;\n",
              "}\n",
              "#T_f860c_row0_col5, #T_f860c_row2_col1, #T_f860c_row2_col6, #T_f860c_row3_col7, #T_f860c_row5_col8, #T_f860c_row8_col0 {\n",
              "  background-color: #465ecf;\n",
              "  color: #f1f1f1;\n",
              "}\n",
              "#T_f860c_row0_col6, #T_f860c_row3_col2, #T_f860c_row8_col3 {\n",
              "  background-color: #4f69d9;\n",
              "  color: #f1f1f1;\n",
              "}\n",
              "#T_f860c_row0_col7, #T_f860c_row8_col5, #T_f860c_row8_col9 {\n",
              "  background-color: #4358cb;\n",
              "  color: #f1f1f1;\n",
              "}\n",
              "#T_f860c_row0_col8, #T_f860c_row1_col5, #T_f860c_row2_col0, #T_f860c_row2_col3, #T_f860c_row2_col4, #T_f860c_row3_col5, #T_f860c_row4_col1, #T_f860c_row4_col2, #T_f860c_row4_col7, #T_f860c_row6_col9, #T_f860c_row8_col6, #T_f860c_row9_col6 {\n",
              "  background-color: #3b4cc0;\n",
              "  color: #f1f1f1;\n",
              "}\n",
              "#T_f860c_row0_col9, #T_f860c_row4_col8, #T_f860c_row5_col7, #T_f860c_row7_col5 {\n",
              "  background-color: #4257c9;\n",
              "  color: #f1f1f1;\n",
              "}\n",
              "#T_f860c_row1_col0, #T_f860c_row8_col2 {\n",
              "  background-color: #688aef;\n",
              "  color: #f1f1f1;\n",
              "}\n",
              "#T_f860c_row1_col2, #T_f860c_row4_col0, #T_f860c_row4_col3, #T_f860c_row6_col1, #T_f860c_row9_col3 {\n",
              "  background-color: #5572df;\n",
              "  color: #f1f1f1;\n",
              "}\n",
              "#T_f860c_row1_col4, #T_f860c_row5_col6 {\n",
              "  background-color: #4961d2;\n",
              "  color: #f1f1f1;\n",
              "}\n",
              "#T_f860c_row1_col6, #T_f860c_row9_col7 {\n",
              "  background-color: #445acc;\n",
              "  color: #f1f1f1;\n",
              "}\n",
              "#T_f860c_row1_col7, #T_f860c_row6_col7, #T_f860c_row7_col8, #T_f860c_row9_col5 {\n",
              "  background-color: #3e51c5;\n",
              "  color: #f1f1f1;\n",
              "}\n",
              "#T_f860c_row1_col8, #T_f860c_row5_col9 {\n",
              "  background-color: #4055c8;\n",
              "  color: #f1f1f1;\n",
              "}\n",
              "#T_f860c_row1_col9, #T_f860c_row2_col7, #T_f860c_row3_col6, #T_f860c_row7_col6 {\n",
              "  background-color: #3f53c6;\n",
              "  color: #f1f1f1;\n",
              "}\n",
              "#T_f860c_row2_col8, #T_f860c_row3_col9, #T_f860c_row6_col3 {\n",
              "  background-color: #4a63d3;\n",
              "  color: #f1f1f1;\n",
              "}\n",
              "#T_f860c_row3_col0, #T_f860c_row5_col3, #T_f860c_row6_col5 {\n",
              "  background-color: #485fd1;\n",
              "  color: #f1f1f1;\n",
              "}\n",
              "#T_f860c_row3_col1, #T_f860c_row4_col6 {\n",
              "  background-color: #4b64d5;\n",
              "  color: #f1f1f1;\n",
              "}\n",
              "#T_f860c_row3_col4 {\n",
              "  background-color: #6a8bef;\n",
              "  color: #f1f1f1;\n",
              "}\n",
              "#T_f860c_row4_col5, #T_f860c_row4_col9, #T_f860c_row6_col8 {\n",
              "  background-color: #3d50c3;\n",
              "  color: #f1f1f1;\n",
              "}\n",
              "#T_f860c_row5_col0 {\n",
              "  background-color: #5673e0;\n",
              "  color: #f1f1f1;\n",
              "}\n",
              "#T_f860c_row5_col1 {\n",
              "  background-color: #4e68d8;\n",
              "  color: #f1f1f1;\n",
              "}\n",
              "#T_f860c_row5_col4 {\n",
              "  background-color: #5f7fe8;\n",
              "  color: #f1f1f1;\n",
              "}\n",
              "#T_f860c_row6_col0, #T_f860c_row9_col4 {\n",
              "  background-color: #5d7ce6;\n",
              "  color: #f1f1f1;\n",
              "}\n",
              "#T_f860c_row6_col2 {\n",
              "  background-color: #6687ed;\n",
              "  color: #f1f1f1;\n",
              "}\n",
              "#T_f860c_row7_col0, #T_f860c_row7_col3 {\n",
              "  background-color: #536edd;\n",
              "  color: #f1f1f1;\n",
              "}\n",
              "#T_f860c_row7_col1, #T_f860c_row8_col1, #T_f860c_row9_col0, #T_f860c_row9_col1 {\n",
              "  background-color: #506bda;\n",
              "  color: #f1f1f1;\n",
              "}\n",
              "#T_f860c_row7_col2, #T_f860c_row8_col4 {\n",
              "  background-color: #6180e9;\n",
              "  color: #f1f1f1;\n",
              "}\n",
              "#T_f860c_row7_col4 {\n",
              "  background-color: #5b7ae5;\n",
              "  color: #f1f1f1;\n",
              "}\n",
              "#T_f860c_row8_col7 {\n",
              "  background-color: #3c4ec2;\n",
              "  color: #f1f1f1;\n",
              "}\n",
              "#T_f860c_row9_col2 {\n",
              "  background-color: #6c8ff1;\n",
              "  color: #f1f1f1;\n",
              "}\n",
              "</style>\n",
              "<table id=\"T_f860c_\" class=\"dataframe\">\n",
              "  <thead>\n",
              "    <tr>\n",
              "      <th class=\"blank level0\" >&nbsp;</th>\n",
              "      <th class=\"col_heading level0 col0\" >ph</th>\n",
              "      <th class=\"col_heading level0 col1\" >Hardness</th>\n",
              "      <th class=\"col_heading level0 col2\" >Solids</th>\n",
              "      <th class=\"col_heading level0 col3\" >Chloramines</th>\n",
              "      <th class=\"col_heading level0 col4\" >Sulfate</th>\n",
              "      <th class=\"col_heading level0 col5\" >Conductivity</th>\n",
              "      <th class=\"col_heading level0 col6\" >Organic_carbon</th>\n",
              "      <th class=\"col_heading level0 col7\" >Trihalomethanes</th>\n",
              "      <th class=\"col_heading level0 col8\" >Turbidity</th>\n",
              "      <th class=\"col_heading level0 col9\" >Potability</th>\n",
              "    </tr>\n",
              "  </thead>\n",
              "  <tbody>\n",
              "    <tr>\n",
              "      <th id=\"T_f860c_level0_row0\" class=\"row_heading level0 row0\" >ph</th>\n",
              "      <td id=\"T_f860c_row0_col0\" class=\"data row0 col0\" >1.000000</td>\n",
              "      <td id=\"T_f860c_row0_col1\" class=\"data row0 col1\" >0.075760</td>\n",
              "      <td id=\"T_f860c_row0_col2\" class=\"data row0 col2\" >-0.082004</td>\n",
              "      <td id=\"T_f860c_row0_col3\" class=\"data row0 col3\" >-0.031741</td>\n",
              "      <td id=\"T_f860c_row0_col4\" class=\"data row0 col4\" >0.014178</td>\n",
              "      <td id=\"T_f860c_row0_col5\" class=\"data row0 col5\" >0.017466</td>\n",
              "      <td id=\"T_f860c_row0_col6\" class=\"data row0 col6\" >0.040240</td>\n",
              "      <td id=\"T_f860c_row0_col7\" class=\"data row0 col7\" >0.003145</td>\n",
              "      <td id=\"T_f860c_row0_col8\" class=\"data row0 col8\" >-0.036107</td>\n",
              "      <td id=\"T_f860c_row0_col9\" class=\"data row0 col9\" >-0.003014</td>\n",
              "    </tr>\n",
              "    <tr>\n",
              "      <th id=\"T_f860c_level0_row1\" class=\"row_heading level0 row1\" >Hardness</th>\n",
              "      <td id=\"T_f860c_row1_col0\" class=\"data row1 col0\" >0.075760</td>\n",
              "      <td id=\"T_f860c_row1_col1\" class=\"data row1 col1\" >1.000000</td>\n",
              "      <td id=\"T_f860c_row1_col2\" class=\"data row1 col2\" >-0.046899</td>\n",
              "      <td id=\"T_f860c_row1_col3\" class=\"data row1 col3\" >-0.030054</td>\n",
              "      <td id=\"T_f860c_row1_col4\" class=\"data row1 col4\" >-0.092833</td>\n",
              "      <td id=\"T_f860c_row1_col5\" class=\"data row1 col5\" >-0.023915</td>\n",
              "      <td id=\"T_f860c_row1_col6\" class=\"data row1 col6\" >0.003610</td>\n",
              "      <td id=\"T_f860c_row1_col7\" class=\"data row1 col7\" >-0.012707</td>\n",
              "      <td id=\"T_f860c_row1_col8\" class=\"data row1 col8\" >-0.014449</td>\n",
              "      <td id=\"T_f860c_row1_col9\" class=\"data row1 col9\" >-0.013837</td>\n",
              "    </tr>\n",
              "    <tr>\n",
              "      <th id=\"T_f860c_level0_row2\" class=\"row_heading level0 row2\" >Solids</th>\n",
              "      <td id=\"T_f860c_row2_col0\" class=\"data row2 col0\" >-0.082004</td>\n",
              "      <td id=\"T_f860c_row2_col1\" class=\"data row2 col1\" >-0.046899</td>\n",
              "      <td id=\"T_f860c_row2_col2\" class=\"data row2 col2\" >1.000000</td>\n",
              "      <td id=\"T_f860c_row2_col3\" class=\"data row2 col3\" >-0.070148</td>\n",
              "      <td id=\"T_f860c_row2_col4\" class=\"data row2 col4\" >-0.149747</td>\n",
              "      <td id=\"T_f860c_row2_col5\" class=\"data row2 col5\" >0.013831</td>\n",
              "      <td id=\"T_f860c_row2_col6\" class=\"data row2 col6\" >0.010242</td>\n",
              "      <td id=\"T_f860c_row2_col7\" class=\"data row2 col7\" >-0.008799</td>\n",
              "      <td id=\"T_f860c_row2_col8\" class=\"data row2 col8\" >0.019546</td>\n",
              "      <td id=\"T_f860c_row2_col9\" class=\"data row2 col9\" >0.033743</td>\n",
              "    </tr>\n",
              "    <tr>\n",
              "      <th id=\"T_f860c_level0_row3\" class=\"row_heading level0 row3\" >Chloramines</th>\n",
              "      <td id=\"T_f860c_row3_col0\" class=\"data row3 col0\" >-0.031741</td>\n",
              "      <td id=\"T_f860c_row3_col1\" class=\"data row3 col1\" >-0.030054</td>\n",
              "      <td id=\"T_f860c_row3_col2\" class=\"data row3 col2\" >-0.070148</td>\n",
              "      <td id=\"T_f860c_row3_col3\" class=\"data row3 col3\" >1.000000</td>\n",
              "      <td id=\"T_f860c_row3_col4\" class=\"data row3 col4\" >0.023762</td>\n",
              "      <td id=\"T_f860c_row3_col5\" class=\"data row3 col5\" >-0.020486</td>\n",
              "      <td id=\"T_f860c_row3_col6\" class=\"data row3 col6\" >-0.012653</td>\n",
              "      <td id=\"T_f860c_row3_col7\" class=\"data row3 col7\" >0.016614</td>\n",
              "      <td id=\"T_f860c_row3_col8\" class=\"data row3 col8\" >0.002363</td>\n",
              "      <td id=\"T_f860c_row3_col9\" class=\"data row3 col9\" >0.023779</td>\n",
              "    </tr>\n",
              "    <tr>\n",
              "      <th id=\"T_f860c_level0_row4\" class=\"row_heading level0 row4\" >Sulfate</th>\n",
              "      <td id=\"T_f860c_row4_col0\" class=\"data row4 col0\" >0.014178</td>\n",
              "      <td id=\"T_f860c_row4_col1\" class=\"data row4 col1\" >-0.092833</td>\n",
              "      <td id=\"T_f860c_row4_col2\" class=\"data row4 col2\" >-0.149747</td>\n",
              "      <td id=\"T_f860c_row4_col3\" class=\"data row4 col3\" >0.023762</td>\n",
              "      <td id=\"T_f860c_row4_col4\" class=\"data row4 col4\" >1.000000</td>\n",
              "      <td id=\"T_f860c_row4_col5\" class=\"data row4 col5\" >-0.014182</td>\n",
              "      <td id=\"T_f860c_row4_col6\" class=\"data row4 col6\" >0.027102</td>\n",
              "      <td id=\"T_f860c_row4_col7\" class=\"data row4 col7\" >-0.025657</td>\n",
              "      <td id=\"T_f860c_row4_col8\" class=\"data row4 col8\" >-0.009767</td>\n",
              "      <td id=\"T_f860c_row4_col9\" class=\"data row4 col9\" >-0.020476</td>\n",
              "    </tr>\n",
              "    <tr>\n",
              "      <th id=\"T_f860c_level0_row5\" class=\"row_heading level0 row5\" >Conductivity</th>\n",
              "      <td id=\"T_f860c_row5_col0\" class=\"data row5 col0\" >0.017466</td>\n",
              "      <td id=\"T_f860c_row5_col1\" class=\"data row5 col1\" >-0.023915</td>\n",
              "      <td id=\"T_f860c_row5_col2\" class=\"data row5 col2\" >0.013831</td>\n",
              "      <td id=\"T_f860c_row5_col3\" class=\"data row5 col3\" >-0.020486</td>\n",
              "      <td id=\"T_f860c_row5_col4\" class=\"data row5 col4\" >-0.014182</td>\n",
              "      <td id=\"T_f860c_row5_col5\" class=\"data row5 col5\" >1.000000</td>\n",
              "      <td id=\"T_f860c_row5_col6\" class=\"data row5 col6\" >0.020966</td>\n",
              "      <td id=\"T_f860c_row5_col7\" class=\"data row5 col7\" >0.001184</td>\n",
              "      <td id=\"T_f860c_row5_col8\" class=\"data row5 col8\" >0.005798</td>\n",
              "      <td id=\"T_f860c_row5_col9\" class=\"data row5 col9\" >-0.008128</td>\n",
              "    </tr>\n",
              "    <tr>\n",
              "      <th id=\"T_f860c_level0_row6\" class=\"row_heading level0 row6\" >Organic_carbon</th>\n",
              "      <td id=\"T_f860c_row6_col0\" class=\"data row6 col0\" >0.040240</td>\n",
              "      <td id=\"T_f860c_row6_col1\" class=\"data row6 col1\" >0.003610</td>\n",
              "      <td id=\"T_f860c_row6_col2\" class=\"data row6 col2\" >0.010242</td>\n",
              "      <td id=\"T_f860c_row6_col3\" class=\"data row6 col3\" >-0.012653</td>\n",
              "      <td id=\"T_f860c_row6_col4\" class=\"data row6 col4\" >0.027102</td>\n",
              "      <td id=\"T_f860c_row6_col5\" class=\"data row6 col5\" >0.020966</td>\n",
              "      <td id=\"T_f860c_row6_col6\" class=\"data row6 col6\" >1.000000</td>\n",
              "      <td id=\"T_f860c_row6_col7\" class=\"data row6 col7\" >-0.012958</td>\n",
              "      <td id=\"T_f860c_row6_col8\" class=\"data row6 col8\" >-0.027308</td>\n",
              "      <td id=\"T_f860c_row6_col9\" class=\"data row6 col9\" >-0.030001</td>\n",
              "    </tr>\n",
              "    <tr>\n",
              "      <th id=\"T_f860c_level0_row7\" class=\"row_heading level0 row7\" >Trihalomethanes</th>\n",
              "      <td id=\"T_f860c_row7_col0\" class=\"data row7 col0\" >0.003145</td>\n",
              "      <td id=\"T_f860c_row7_col1\" class=\"data row7 col1\" >-0.012707</td>\n",
              "      <td id=\"T_f860c_row7_col2\" class=\"data row7 col2\" >-0.008799</td>\n",
              "      <td id=\"T_f860c_row7_col3\" class=\"data row7 col3\" >0.016614</td>\n",
              "      <td id=\"T_f860c_row7_col4\" class=\"data row7 col4\" >-0.025657</td>\n",
              "      <td id=\"T_f860c_row7_col5\" class=\"data row7 col5\" >0.001184</td>\n",
              "      <td id=\"T_f860c_row7_col6\" class=\"data row7 col6\" >-0.012958</td>\n",
              "      <td id=\"T_f860c_row7_col7\" class=\"data row7 col7\" >1.000000</td>\n",
              "      <td id=\"T_f860c_row7_col8\" class=\"data row7 col8\" >-0.021487</td>\n",
              "      <td id=\"T_f860c_row7_col9\" class=\"data row7 col9\" >0.006887</td>\n",
              "    </tr>\n",
              "    <tr>\n",
              "      <th id=\"T_f860c_level0_row8\" class=\"row_heading level0 row8\" >Turbidity</th>\n",
              "      <td id=\"T_f860c_row8_col0\" class=\"data row8 col0\" >-0.036107</td>\n",
              "      <td id=\"T_f860c_row8_col1\" class=\"data row8 col1\" >-0.014449</td>\n",
              "      <td id=\"T_f860c_row8_col2\" class=\"data row8 col2\" >0.019546</td>\n",
              "      <td id=\"T_f860c_row8_col3\" class=\"data row8 col3\" >0.002363</td>\n",
              "      <td id=\"T_f860c_row8_col4\" class=\"data row8 col4\" >-0.009767</td>\n",
              "      <td id=\"T_f860c_row8_col5\" class=\"data row8 col5\" >0.005798</td>\n",
              "      <td id=\"T_f860c_row8_col6\" class=\"data row8 col6\" >-0.027308</td>\n",
              "      <td id=\"T_f860c_row8_col7\" class=\"data row8 col7\" >-0.021487</td>\n",
              "      <td id=\"T_f860c_row8_col8\" class=\"data row8 col8\" >1.000000</td>\n",
              "      <td id=\"T_f860c_row8_col9\" class=\"data row8 col9\" >0.001581</td>\n",
              "    </tr>\n",
              "    <tr>\n",
              "      <th id=\"T_f860c_level0_row9\" class=\"row_heading level0 row9\" >Potability</th>\n",
              "      <td id=\"T_f860c_row9_col0\" class=\"data row9 col0\" >-0.003014</td>\n",
              "      <td id=\"T_f860c_row9_col1\" class=\"data row9 col1\" >-0.013837</td>\n",
              "      <td id=\"T_f860c_row9_col2\" class=\"data row9 col2\" >0.033743</td>\n",
              "      <td id=\"T_f860c_row9_col3\" class=\"data row9 col3\" >0.023779</td>\n",
              "      <td id=\"T_f860c_row9_col4\" class=\"data row9 col4\" >-0.020476</td>\n",
              "      <td id=\"T_f860c_row9_col5\" class=\"data row9 col5\" >-0.008128</td>\n",
              "      <td id=\"T_f860c_row9_col6\" class=\"data row9 col6\" >-0.030001</td>\n",
              "      <td id=\"T_f860c_row9_col7\" class=\"data row9 col7\" >0.006887</td>\n",
              "      <td id=\"T_f860c_row9_col8\" class=\"data row9 col8\" >0.001581</td>\n",
              "      <td id=\"T_f860c_row9_col9\" class=\"data row9 col9\" >1.000000</td>\n",
              "    </tr>\n",
              "  </tbody>\n",
              "</table>\n"
            ]
          },
          "metadata": {},
          "execution_count": 11
        }
      ]
    },
    {
      "cell_type": "code",
      "execution_count": 12,
      "metadata": {
        "id": "k_OYju-znJA7",
        "colab": {
          "base_uri": "https://localhost:8080/",
          "height": 427
        },
        "outputId": "c892a2cd-a7ff-4443-e8b4-c263993dfb4f"
      },
      "outputs": [
        {
          "output_type": "execute_result",
          "data": {
            "text/plain": [
              "         ph  Hardness    Solids  Chloramines   Sulfate  Conductivity  \\\n",
              "0  0.502625  0.571139  0.336096     0.543891  0.680385      0.669439   \n",
              "1  0.265434  0.297400  0.300611     0.491839  0.579704      0.719411   \n",
              "2  0.578509  0.641311  0.321619     0.698543  0.579704      0.414652   \n",
              "3  0.594055  0.605536  0.356244     0.603314  0.647347      0.317880   \n",
              "4  0.649445  0.484851  0.289922     0.484900  0.514545      0.379337   \n",
              "5  0.398863  0.511010  0.466746     0.563043  0.561537      0.173092   \n",
              "6  0.730276  0.727768  0.466763     0.560580  0.751819      0.178659   \n",
              "7  0.616846  0.565593  0.219208     0.329629  0.495155      0.512581   \n",
              "8  0.502625  0.259553  0.229281     0.583340  0.396690      0.363537   \n",
              "9  0.798592  0.652175  0.413152     0.682990  0.781300      0.668699   \n",
              "\n",
              "   Organic_carbon  Trihalomethanes  Turbidity  Potability  \n",
              "0        0.313402         0.699753   0.286091         0.0  \n",
              "1        0.497319         0.450999   0.576793         0.0  \n",
              "2        0.562017         0.532866   0.303637         0.0  \n",
              "3        0.622089         0.808065   0.601015         0.0  \n",
              "4        0.358555         0.253606   0.496327         0.0  \n",
              "5        0.237538         0.439550   0.209814         0.0  \n",
              "6        0.444050         0.680385   0.231233         0.0  \n",
              "7        0.389418         0.503483   0.558031         0.0  \n",
              "8        0.402531         0.431527   0.405562         0.0  \n",
              "9        0.602598         0.577945   0.552195         0.0  "
            ],
            "text/html": [
              "\n",
              "  <div id=\"df-edff864e-efd2-41a8-8063-f1647ff36106\">\n",
              "    <div class=\"colab-df-container\">\n",
              "      <div>\n",
              "<style scoped>\n",
              "    .dataframe tbody tr th:only-of-type {\n",
              "        vertical-align: middle;\n",
              "    }\n",
              "\n",
              "    .dataframe tbody tr th {\n",
              "        vertical-align: top;\n",
              "    }\n",
              "\n",
              "    .dataframe thead th {\n",
              "        text-align: right;\n",
              "    }\n",
              "</style>\n",
              "<table border=\"1\" class=\"dataframe\">\n",
              "  <thead>\n",
              "    <tr style=\"text-align: right;\">\n",
              "      <th></th>\n",
              "      <th>ph</th>\n",
              "      <th>Hardness</th>\n",
              "      <th>Solids</th>\n",
              "      <th>Chloramines</th>\n",
              "      <th>Sulfate</th>\n",
              "      <th>Conductivity</th>\n",
              "      <th>Organic_carbon</th>\n",
              "      <th>Trihalomethanes</th>\n",
              "      <th>Turbidity</th>\n",
              "      <th>Potability</th>\n",
              "    </tr>\n",
              "  </thead>\n",
              "  <tbody>\n",
              "    <tr>\n",
              "      <th>0</th>\n",
              "      <td>0.502625</td>\n",
              "      <td>0.571139</td>\n",
              "      <td>0.336096</td>\n",
              "      <td>0.543891</td>\n",
              "      <td>0.680385</td>\n",
              "      <td>0.669439</td>\n",
              "      <td>0.313402</td>\n",
              "      <td>0.699753</td>\n",
              "      <td>0.286091</td>\n",
              "      <td>0.0</td>\n",
              "    </tr>\n",
              "    <tr>\n",
              "      <th>1</th>\n",
              "      <td>0.265434</td>\n",
              "      <td>0.297400</td>\n",
              "      <td>0.300611</td>\n",
              "      <td>0.491839</td>\n",
              "      <td>0.579704</td>\n",
              "      <td>0.719411</td>\n",
              "      <td>0.497319</td>\n",
              "      <td>0.450999</td>\n",
              "      <td>0.576793</td>\n",
              "      <td>0.0</td>\n",
              "    </tr>\n",
              "    <tr>\n",
              "      <th>2</th>\n",
              "      <td>0.578509</td>\n",
              "      <td>0.641311</td>\n",
              "      <td>0.321619</td>\n",
              "      <td>0.698543</td>\n",
              "      <td>0.579704</td>\n",
              "      <td>0.414652</td>\n",
              "      <td>0.562017</td>\n",
              "      <td>0.532866</td>\n",
              "      <td>0.303637</td>\n",
              "      <td>0.0</td>\n",
              "    </tr>\n",
              "    <tr>\n",
              "      <th>3</th>\n",
              "      <td>0.594055</td>\n",
              "      <td>0.605536</td>\n",
              "      <td>0.356244</td>\n",
              "      <td>0.603314</td>\n",
              "      <td>0.647347</td>\n",
              "      <td>0.317880</td>\n",
              "      <td>0.622089</td>\n",
              "      <td>0.808065</td>\n",
              "      <td>0.601015</td>\n",
              "      <td>0.0</td>\n",
              "    </tr>\n",
              "    <tr>\n",
              "      <th>4</th>\n",
              "      <td>0.649445</td>\n",
              "      <td>0.484851</td>\n",
              "      <td>0.289922</td>\n",
              "      <td>0.484900</td>\n",
              "      <td>0.514545</td>\n",
              "      <td>0.379337</td>\n",
              "      <td>0.358555</td>\n",
              "      <td>0.253606</td>\n",
              "      <td>0.496327</td>\n",
              "      <td>0.0</td>\n",
              "    </tr>\n",
              "    <tr>\n",
              "      <th>5</th>\n",
              "      <td>0.398863</td>\n",
              "      <td>0.511010</td>\n",
              "      <td>0.466746</td>\n",
              "      <td>0.563043</td>\n",
              "      <td>0.561537</td>\n",
              "      <td>0.173092</td>\n",
              "      <td>0.237538</td>\n",
              "      <td>0.439550</td>\n",
              "      <td>0.209814</td>\n",
              "      <td>0.0</td>\n",
              "    </tr>\n",
              "    <tr>\n",
              "      <th>6</th>\n",
              "      <td>0.730276</td>\n",
              "      <td>0.727768</td>\n",
              "      <td>0.466763</td>\n",
              "      <td>0.560580</td>\n",
              "      <td>0.751819</td>\n",
              "      <td>0.178659</td>\n",
              "      <td>0.444050</td>\n",
              "      <td>0.680385</td>\n",
              "      <td>0.231233</td>\n",
              "      <td>0.0</td>\n",
              "    </tr>\n",
              "    <tr>\n",
              "      <th>7</th>\n",
              "      <td>0.616846</td>\n",
              "      <td>0.565593</td>\n",
              "      <td>0.219208</td>\n",
              "      <td>0.329629</td>\n",
              "      <td>0.495155</td>\n",
              "      <td>0.512581</td>\n",
              "      <td>0.389418</td>\n",
              "      <td>0.503483</td>\n",
              "      <td>0.558031</td>\n",
              "      <td>0.0</td>\n",
              "    </tr>\n",
              "    <tr>\n",
              "      <th>8</th>\n",
              "      <td>0.502625</td>\n",
              "      <td>0.259553</td>\n",
              "      <td>0.229281</td>\n",
              "      <td>0.583340</td>\n",
              "      <td>0.396690</td>\n",
              "      <td>0.363537</td>\n",
              "      <td>0.402531</td>\n",
              "      <td>0.431527</td>\n",
              "      <td>0.405562</td>\n",
              "      <td>0.0</td>\n",
              "    </tr>\n",
              "    <tr>\n",
              "      <th>9</th>\n",
              "      <td>0.798592</td>\n",
              "      <td>0.652175</td>\n",
              "      <td>0.413152</td>\n",
              "      <td>0.682990</td>\n",
              "      <td>0.781300</td>\n",
              "      <td>0.668699</td>\n",
              "      <td>0.602598</td>\n",
              "      <td>0.577945</td>\n",
              "      <td>0.552195</td>\n",
              "      <td>0.0</td>\n",
              "    </tr>\n",
              "  </tbody>\n",
              "</table>\n",
              "</div>\n",
              "      <button class=\"colab-df-convert\" onclick=\"convertToInteractive('df-edff864e-efd2-41a8-8063-f1647ff36106')\"\n",
              "              title=\"Convert this dataframe to an interactive table.\"\n",
              "              style=\"display:none;\">\n",
              "        \n",
              "  <svg xmlns=\"http://www.w3.org/2000/svg\" height=\"24px\"viewBox=\"0 0 24 24\"\n",
              "       width=\"24px\">\n",
              "    <path d=\"M0 0h24v24H0V0z\" fill=\"none\"/>\n",
              "    <path d=\"M18.56 5.44l.94 2.06.94-2.06 2.06-.94-2.06-.94-.94-2.06-.94 2.06-2.06.94zm-11 1L8.5 8.5l.94-2.06 2.06-.94-2.06-.94L8.5 2.5l-.94 2.06-2.06.94zm10 10l.94 2.06.94-2.06 2.06-.94-2.06-.94-.94-2.06-.94 2.06-2.06.94z\"/><path d=\"M17.41 7.96l-1.37-1.37c-.4-.4-.92-.59-1.43-.59-.52 0-1.04.2-1.43.59L10.3 9.45l-7.72 7.72c-.78.78-.78 2.05 0 2.83L4 21.41c.39.39.9.59 1.41.59.51 0 1.02-.2 1.41-.59l7.78-7.78 2.81-2.81c.8-.78.8-2.07 0-2.86zM5.41 20L4 18.59l7.72-7.72 1.47 1.35L5.41 20z\"/>\n",
              "  </svg>\n",
              "      </button>\n",
              "      \n",
              "  <style>\n",
              "    .colab-df-container {\n",
              "      display:flex;\n",
              "      flex-wrap:wrap;\n",
              "      gap: 12px;\n",
              "    }\n",
              "\n",
              "    .colab-df-convert {\n",
              "      background-color: #E8F0FE;\n",
              "      border: none;\n",
              "      border-radius: 50%;\n",
              "      cursor: pointer;\n",
              "      display: none;\n",
              "      fill: #1967D2;\n",
              "      height: 32px;\n",
              "      padding: 0 0 0 0;\n",
              "      width: 32px;\n",
              "    }\n",
              "\n",
              "    .colab-df-convert:hover {\n",
              "      background-color: #E2EBFA;\n",
              "      box-shadow: 0px 1px 2px rgba(60, 64, 67, 0.3), 0px 1px 3px 1px rgba(60, 64, 67, 0.15);\n",
              "      fill: #174EA6;\n",
              "    }\n",
              "\n",
              "    [theme=dark] .colab-df-convert {\n",
              "      background-color: #3B4455;\n",
              "      fill: #D2E3FC;\n",
              "    }\n",
              "\n",
              "    [theme=dark] .colab-df-convert:hover {\n",
              "      background-color: #434B5C;\n",
              "      box-shadow: 0px 1px 3px 1px rgba(0, 0, 0, 0.15);\n",
              "      filter: drop-shadow(0px 1px 2px rgba(0, 0, 0, 0.3));\n",
              "      fill: #FFFFFF;\n",
              "    }\n",
              "  </style>\n",
              "\n",
              "      <script>\n",
              "        const buttonEl =\n",
              "          document.querySelector('#df-edff864e-efd2-41a8-8063-f1647ff36106 button.colab-df-convert');\n",
              "        buttonEl.style.display =\n",
              "          google.colab.kernel.accessAllowed ? 'block' : 'none';\n",
              "\n",
              "        async function convertToInteractive(key) {\n",
              "          const element = document.querySelector('#df-edff864e-efd2-41a8-8063-f1647ff36106');\n",
              "          const dataTable =\n",
              "            await google.colab.kernel.invokeFunction('convertToInteractive',\n",
              "                                                     [key], {});\n",
              "          if (!dataTable) return;\n",
              "\n",
              "          const docLinkHtml = 'Like what you see? Visit the ' +\n",
              "            '<a target=\"_blank\" href=https://colab.research.google.com/notebooks/data_table.ipynb>data table notebook</a>'\n",
              "            + ' to learn more about interactive tables.';\n",
              "          element.innerHTML = '';\n",
              "          dataTable['output_type'] = 'display_data';\n",
              "          await google.colab.output.renderOutput(dataTable, element);\n",
              "          const docLink = document.createElement('div');\n",
              "          docLink.innerHTML = docLinkHtml;\n",
              "          element.appendChild(docLink);\n",
              "        }\n",
              "      </script>\n",
              "    </div>\n",
              "  </div>\n",
              "  "
            ]
          },
          "metadata": {},
          "execution_count": 12
        }
      ],
      "source": [
        "#feature scalling to normalize data in range 0:1\n",
        "stand=MinMaxScaler()\n",
        "col=data.columns.tolist()\n",
        "data[col]=stand.fit_transform(data[col])\n",
        "data.head(10)"
      ]
    },
    {
      "cell_type": "code",
      "source": [
        "x=data.iloc[:,:-1]\n",
        "y=data.iloc[:,-1]"
      ],
      "metadata": {
        "id": "yBJvtVbB4Mk3"
      },
      "execution_count": 13,
      "outputs": []
    },
    {
      "cell_type": "code",
      "source": [
        "x.shape"
      ],
      "metadata": {
        "id": "idyQRBiH4FRJ",
        "colab": {
          "base_uri": "https://localhost:8080/"
        },
        "outputId": "83cd8260-f48a-4d29-a7c7-0a285270d7b2"
      },
      "execution_count": 14,
      "outputs": [
        {
          "output_type": "execute_result",
          "data": {
            "text/plain": [
              "(3276, 9)"
            ]
          },
          "metadata": {},
          "execution_count": 14
        }
      ]
    },
    {
      "cell_type": "code",
      "source": [
        "y.shape"
      ],
      "metadata": {
        "id": "9Ko6ZrAb4Igw",
        "colab": {
          "base_uri": "https://localhost:8080/"
        },
        "outputId": "6687603d-2eff-4031-c957-600d2da5b217"
      },
      "execution_count": 15,
      "outputs": [
        {
          "output_type": "execute_result",
          "data": {
            "text/plain": [
              "(3276,)"
            ]
          },
          "metadata": {},
          "execution_count": 15
        }
      ]
    },
    {
      "cell_type": "code",
      "source": [
        "#splliting data to train and test with 75% train and 25% test\n",
        "X_train, X_test, y_train, y_test = train_test_split(x, y, test_size = 0.25, shuffle=True, random_state=10)\n"
      ],
      "metadata": {
        "id": "sgqLfbLNJmoG"
      },
      "execution_count": 16,
      "outputs": []
    },
    {
      "cell_type": "code",
      "source": [
        "#a list to save accuracy score for each model\n",
        "scores=[]"
      ],
      "metadata": {
        "id": "F_-_t3fNlOtr"
      },
      "execution_count": 17,
      "outputs": []
    },
    {
      "cell_type": "markdown",
      "metadata": {
        "id": "l7H8c8RlnJA_"
      },
      "source": [
        "Create a model that fits the data"
      ]
    },
    {
      "cell_type": "code",
      "source": [
        "#random forest\n",
        "classifier = RandomForestClassifier(n_estimators = 100)\n",
        "#train the model\n",
        "classifier.fit(X_train, y_train)\n",
        "#predict with the test data\n",
        "y_pred = classifier.predict(X_test)\n",
        "\n",
        "print(\"random forest accuracy:\",accuracy_score(y_test,y_pred))\n",
        "print(\"random forest precision \",metrics.precision_score(y_test,y_pred))\n",
        "print(\"random forest recall \",metrics.recall_score(y_test,y_pred))\n",
        "print(\"\\n\")\n",
        "#adding accuracy for the model in scores list\n",
        "scores.append({\n",
        "        'model': 'Random forest',\n",
        "        'accuracy':accuracy_score(y_test,y_pred) })\n",
        "#confusion matrix \n",
        "cm = metrics.confusion_matrix(y_test, y_pred)\n",
        "fig, ax = plt.subplots(figsize=(8, 8))\n",
        "ax.imshow(cm)\n",
        "ax.grid(False)\n",
        "ax.xaxis.set(ticks=(0, 1), ticklabels=('Predicted 0s', 'Predicted 1s'))\n",
        "ax.yaxis.set(ticks=(0, 1), ticklabels=('Actual 0s', 'Actual 1s'))\n",
        "ax.set_ylim(1.5, -0.5)\n",
        "\n",
        "for i in range(2):\n",
        "    for j in range(2):\n",
        "        ax.text(j, i, cm[i, j], ha='center', va='center', color='red')\n",
        "        \n",
        "plt.show()\n",
        "#note: Random forrest gives highest accuracy\n",
        "\n",
        "#Random forest,consists of a large number of individual decision trees that operate as an ensemble.\n",
        "#Each individual tree in the random forest spits out a class prediction and the class with the most votes becomes our model’s prediction "
      ],
      "metadata": {
        "id": "Mp4t8haH08Ub",
        "colab": {
          "base_uri": "https://localhost:8080/",
          "height": 570
        },
        "outputId": "5f4dbe32-1c87-417d-b236-4c31c2f9d7a4"
      },
      "execution_count": 18,
      "outputs": [
        {
          "output_type": "stream",
          "name": "stdout",
          "text": [
            "random forest accuracy: 0.6642246642246642\n",
            "random forest precision  0.6012269938650306\n",
            "random forest recall  0.3181818181818182\n",
            "\n",
            "\n"
          ]
        },
        {
          "output_type": "display_data",
          "data": {
            "text/plain": [
              "<Figure size 576x576 with 1 Axes>"
            ],
            "image/png": "[encoded data removed]"
          },
          "metadata": {
            "needs_background": "light"
          }
        }
      ]
    },
    {
      "cell_type": "code",
      "source": [
        "#desicion tree \n",
        "model = DecisionTreeClassifier()\n",
        "model.fit(X_train, y_train)\n",
        "predictions = model.predict(X_test)\n",
        "print(\"desicion tree accuracy:\",accuracy_score(y_test,predictions))\n",
        "print(\"desicion tree precision: \",metrics.precision_score(y_test,predictions))\n",
        "print(\"desicion tree recall: \",metrics.recall_score(y_test,predictions))\n",
        "print(\"\\n\")\n",
        "scores.append({\n",
        "        'model': 'Decision tree',\n",
        "        'accuracy':accuracy_score(y_test,predictions) })\n",
        "\n",
        "#In Decision Trees, for predicting a class label for a record we start from the root of the tree.\n",
        "# We compare the values of the root attribute with the record’s attribute. \n",
        "#On the basis of comparison, we follow the branch corresponding to that value and jump to the next node"
      ],
      "metadata": {
        "id": "J3c5dKR308z5",
        "colab": {
          "base_uri": "https://localhost:8080/"
        },
        "outputId": "0d3438ee-a655-4ec8-cd4f-e53060e03324"
      },
      "execution_count": 19,
      "outputs": [
        {
          "output_type": "stream",
          "name": "stdout",
          "text": [
            "desicion tree accuracy: 0.5763125763125763\n",
            "desicion tree precision:  0.4417910447761194\n",
            "desicion tree recall:  0.4805194805194805\n",
            "\n",
            "\n"
          ]
        }
      ]
    },
    {
      "cell_type": "code",
      "source": [
        "#logistic regression\n",
        "log=LogisticRegression()\n",
        "pred=log.fit(X_train,y_train).predict(X_test)\n",
        "\n",
        "print(\"logistic regression accuracy: \",accuracy_score(y_test,pred))\n",
        "scores.append({\n",
        "        'model': 'logistic regression',\n",
        "        'accuracy':accuracy_score(y_test,pred) })\n",
        "#Logistic regression is used to describe data and to explain the relationship between one dependent binary variable and one\n",
        "# or more nominal, ordinal, interval or ratio-level independent variables"
      ],
      "metadata": {
        "id": "2nqMeTvcHm_H",
        "colab": {
          "base_uri": "https://localhost:8080/"
        },
        "outputId": "60d305c0-3db0-4402-cb8c-f1f500c95f9f"
      },
      "execution_count": 20,
      "outputs": [
        {
          "output_type": "stream",
          "name": "stdout",
          "text": [
            "logistic regression accuracy:  0.6251526251526252\n"
          ]
        }
      ]
    },
    {
      "cell_type": "code",
      "source": [
        "#SVM\n",
        "#we use grid search to choose the best parameters \n",
        "param_grid = {'C': [0.1, 1, 10, 100, 1000],\n",
        "                  'gamma': [1, 0.1, 0.01, 0.001, 0.0001],\n",
        "                  'kernel': ['rbf']}\n",
        "grid_SVM = GridSearchCV(SVC(), param_grid)\n",
        "grid_SVM.fit(X_train, y_train)\n",
        "pred=grid_SVM.predict(X_test)\n",
        "print(\"SVM accuracy: \", accuracy_score(y_test, pred))\n",
        "print(\"best parameters: \",grid_SVM.best_params_)\n",
        "scores.append({\n",
        "        'model': 'SVM',\n",
        "        'accuracy':accuracy_score(y_test,pred) })\n",
        "# SVM is a supervised learning method that looks at data and sorts it into one of two categories. An SVM outputs a map of the sorted data with \n",
        "#the margins between the two as far apart as possible"
      ],
      "metadata": {
        "id": "6RU64XYZQQ0A",
        "colab": {
          "base_uri": "https://localhost:8080/"
        },
        "outputId": "811943ac-ee89-437e-a8ec-7fe06368334f"
      },
      "execution_count": 21,
      "outputs": [
        {
          "output_type": "stream",
          "name": "stdout",
          "text": [
            "SVM accuracy:  0.6642246642246642\n",
            "best parameters:  {'C': 100, 'gamma': 1, 'kernel': 'rbf'}\n"
          ]
        }
      ]
    },
    {
      "cell_type": "markdown",
      "metadata": {
        "id": "or5AuBLGnJBC"
      },
      "source": [
        "Creating an accurecy table"
      ]
    },
    {
      "cell_type": "code",
      "execution_count": 22,
      "metadata": {
        "id": "ahqgfvwdnJBF",
        "colab": {
          "base_uri": "https://localhost:8080/",
          "height": 175
        },
        "outputId": "49a6f9be-3584-4c04-8dc5-8ef7797fefbc"
      },
      "outputs": [
        {
          "output_type": "execute_result",
          "data": {
            "text/plain": [
              "                 model  accuracy\n",
              "0        Random forest  0.664225\n",
              "1        Decision tree  0.576313\n",
              "2  logistic regression  0.625153\n",
              "3                  SVM  0.664225"
            ],
            "text/html": [
              "\n",
              "  <div id=\"df-fa8ba1c2-cc95-410d-ab11-ac49b94bc2a9\">\n",
              "    <div class=\"colab-df-container\">\n",
              "      <div>\n",
              "<style scoped>\n",
              "    .dataframe tbody tr th:only-of-type {\n",
              "        vertical-align: middle;\n",
              "    }\n",
              "\n",
              "    .dataframe tbody tr th {\n",
              "        vertical-align: top;\n",
              "    }\n",
              "\n",
              "    .dataframe thead th {\n",
              "        text-align: right;\n",
              "    }\n",
              "</style>\n",
              "<table border=\"1\" class=\"dataframe\">\n",
              "  <thead>\n",
              "    <tr style=\"text-align: right;\">\n",
              "      <th></th>\n",
              "      <th>model</th>\n",
              "      <th>accuracy</th>\n",
              "    </tr>\n",
              "  </thead>\n",
              "  <tbody>\n",
              "    <tr>\n",
              "      <th>0</th>\n",
              "      <td>Random forest</td>\n",
              "      <td>0.664225</td>\n",
              "    </tr>\n",
              "    <tr>\n",
              "      <th>1</th>\n",
              "      <td>Decision tree</td>\n",
              "      <td>0.576313</td>\n",
              "    </tr>\n",
              "    <tr>\n",
              "      <th>2</th>\n",
              "      <td>logistic regression</td>\n",
              "      <td>0.625153</td>\n",
              "    </tr>\n",
              "    <tr>\n",
              "      <th>3</th>\n",
              "      <td>SVM</td>\n",
              "      <td>0.664225</td>\n",
              "    </tr>\n",
              "  </tbody>\n",
              "</table>\n",
              "</div>\n",
              "      <button class=\"colab-df-convert\" onclick=\"convertToInteractive('df-fa8ba1c2-cc95-410d-ab11-ac49b94bc2a9')\"\n",
              "              title=\"Convert this dataframe to an interactive table.\"\n",
              "              style=\"display:none;\">\n",
              "        \n",
              "  <svg xmlns=\"http://www.w3.org/2000/svg\" height=\"24px\"viewBox=\"0 0 24 24\"\n",
              "       width=\"24px\">\n",
              "    <path d=\"M0 0h24v24H0V0z\" fill=\"none\"/>\n",
              "    <path d=\"M18.56 5.44l.94 2.06.94-2.06 2.06-.94-2.06-.94-.94-2.06-.94 2.06-2.06.94zm-11 1L8.5 8.5l.94-2.06 2.06-.94-2.06-.94L8.5 2.5l-.94 2.06-2.06.94zm10 10l.94 2.06.94-2.06 2.06-.94-2.06-.94-.94-2.06-.94 2.06-2.06.94z\"/><path d=\"M17.41 7.96l-1.37-1.37c-.4-.4-.92-.59-1.43-.59-.52 0-1.04.2-1.43.59L10.3 9.45l-7.72 7.72c-.78.78-.78 2.05 0 2.83L4 21.41c.39.39.9.59 1.41.59.51 0 1.02-.2 1.41-.59l7.78-7.78 2.81-2.81c.8-.78.8-2.07 0-2.86zM5.41 20L4 18.59l7.72-7.72 1.47 1.35L5.41 20z\"/>\n",
              "  </svg>\n",
              "      </button>\n",
              "      \n",
              "  <style>\n",
              "    .colab-df-container {\n",
              "      display:flex;\n",
              "      flex-wrap:wrap;\n",
              "      gap: 12px;\n",
              "    }\n",
              "\n",
              "    .colab-df-convert {\n",
              "      background-color: #E8F0FE;\n",
              "      border: none;\n",
              "      border-radius: 50%;\n",
              "      cursor: pointer;\n",
              "      display: none;\n",
              "      fill: #1967D2;\n",
              "      height: 32px;\n",
              "      padding: 0 0 0 0;\n",
              "      width: 32px;\n",
              "    }\n",
              "\n",
              "    .colab-df-convert:hover {\n",
              "      background-color: #E2EBFA;\n",
              "      box-shadow: 0px 1px 2px rgba(60, 64, 67, 0.3), 0px 1px 3px 1px rgba(60, 64, 67, 0.15);\n",
              "      fill: #174EA6;\n",
              "    }\n",
              "\n",
              "    [theme=dark] .colab-df-convert {\n",
              "      background-color: #3B4455;\n",
              "      fill: #D2E3FC;\n",
              "    }\n",
              "\n",
              "    [theme=dark] .colab-df-convert:hover {\n",
              "      background-color: #434B5C;\n",
              "      box-shadow: 0px 1px 3px 1px rgba(0, 0, 0, 0.15);\n",
              "      filter: drop-shadow(0px 1px 2px rgba(0, 0, 0, 0.3));\n",
              "      fill: #FFFFFF;\n",
              "    }\n",
              "  </style>\n",
              "\n",
              "      <script>\n",
              "        const buttonEl =\n",
              "          document.querySelector('#df-fa8ba1c2-cc95-410d-ab11-ac49b94bc2a9 button.colab-df-convert');\n",
              "        buttonEl.style.display =\n",
              "          google.colab.kernel.accessAllowed ? 'block' : 'none';\n",
              "\n",
              "        async function convertToInteractive(key) {\n",
              "          const element = document.querySelector('#df-fa8ba1c2-cc95-410d-ab11-ac49b94bc2a9');\n",
              "          const dataTable =\n",
              "            await google.colab.kernel.invokeFunction('convertToInteractive',\n",
              "                                                     [key], {});\n",
              "          if (!dataTable) return;\n",
              "\n",
              "          const docLinkHtml = 'Like what you see? Visit the ' +\n",
              "            '<a target=\"_blank\" href=https://colab.research.google.com/notebooks/data_table.ipynb>data table notebook</a>'\n",
              "            + ' to learn more about interactive tables.';\n",
              "          element.innerHTML = '';\n",
              "          dataTable['output_type'] = 'display_data';\n",
              "          await google.colab.output.renderOutput(dataTable, element);\n",
              "          const docLink = document.createElement('div');\n",
              "          docLink.innerHTML = docLinkHtml;\n",
              "          element.appendChild(docLink);\n",
              "        }\n",
              "      </script>\n",
              "    </div>\n",
              "  </div>\n",
              "  "
            ]
          },
          "metadata": {},
          "execution_count": 22
        }
      ],
      "source": [
        "#printing accuracy for each model \n",
        "df_score = pd.DataFrame(scores,columns=['model','accuracy'])\n",
        "df_score\n"
      ]
    },
    {
      "cell_type": "code",
      "source": [
        "#visualization for each model's accuracy\n",
        "sns.barplot(x=\"model\", y=\"accuracy\", data=df_score)\n",
        "plt.ylim(0, 1)\n",
        "#conclusion: Random forrest is the highest accuracy and decision tree is the lowest"
      ],
      "metadata": {
        "colab": {
          "base_uri": "https://localhost:8080/",
          "height": 300
        },
        "id": "h77Mr8AaobRh",
        "outputId": "f6f840fe-a811-43a2-96d0-3857e5cfc311"
      },
      "execution_count": 23,
      "outputs": [
        {
          "output_type": "execute_result",
          "data": {
            "text/plain": [
              "(0.0, 1.0)"
            ]
          },
          "metadata": {},
          "execution_count": 23
        },
        {
          "output_type": "display_data",
          "data": {
            "text/plain": [
              "<Figure size 432x288 with 1 Axes>"
            ],
            "image/png": "[encoded data removed]"
          },
          "metadata": {
            "needs_background": "light"
          }
        }
      ]
    },
    {
      "cell_type": "code",
      "source": [
        "#classification report \n",
        "print(classification_report(y_test,y_pred))\n"
      ],
      "metadata": {
        "colab": {
          "base_uri": "https://localhost:8080/"
        },
        "id": "GTrTAZo3r6FG",
        "outputId": "1b797ea8-6298-44fc-abea-42c630c24408"
      },
      "execution_count": 24,
      "outputs": [
        {
          "output_type": "stream",
          "name": "stdout",
          "text": [
            "              precision    recall  f1-score   support\n",
            "\n",
            "         0.0       0.68      0.87      0.76       511\n",
            "         1.0       0.60      0.32      0.42       308\n",
            "\n",
            "    accuracy                           0.66       819\n",
            "   macro avg       0.64      0.60      0.59       819\n",
            "weighted avg       0.65      0.66      0.63       819\n",
            "\n"
          ]
        }
      ]
    }
  ],
  "metadata": {
    "kernelspec": {
      "display_name": "Python 3",
      "language": "python",
      "name": "python3"
    },
    "language_info": {
      "codemirror_mode": {
        "name": "ipython",
        "version": 3
      },
      "file_extension": ".py",
      "mimetype": "text/x-python",
      "name": "python",
      "nbconvert_exporter": "python",
      "pygments_lexer": "ipython3",
      "version": "3.8.5"
    },
    "colab": {
      "provenance": [],
      "collapsed_sections": []
    }
  },
  "nbformat": 4,
  "nbformat_minor": 0
}